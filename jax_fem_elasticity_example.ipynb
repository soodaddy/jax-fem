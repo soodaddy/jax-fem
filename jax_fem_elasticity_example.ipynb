{
  "nbformat": 4,
  "nbformat_minor": 0,
  "metadata": {
    "colab": {
      "provenance": [],
      "authorship_tag": "ABX9TyNM1dlvQGdf7R5O4p/q8Z2e",
      "include_colab_link": true
    },
    "kernelspec": {
      "name": "python3",
      "display_name": "Python 3"
    },
    "language_info": {
      "name": "python"
    }
  },
  "cells": [
    {
      "cell_type": "markdown",
      "metadata": {
        "id": "view-in-github",
        "colab_type": "text"
      },
      "source": [
        "<a href=\"https://colab.research.google.com/github/soodaddy/jax-fem/blob/main/jax_fem_elasticity_example.ipynb\" target=\"_parent\"><img src=\"https://colab.research.google.com/assets/colab-badge.svg\" alt=\"Open In Colab\"/></a>"
      ]
    },
    {
      "cell_type": "code",
      "execution_count": 2,
      "metadata": {
        "colab": {
          "base_uri": "https://localhost:8080/",
          "height": 394
        },
        "id": "ICLjAoVD7AfS",
        "outputId": "ed8cccfe-c214-417e-9062-934393bc22da"
      },
      "outputs": [
        {
          "output_type": "error",
          "ename": "ModuleNotFoundError",
          "evalue": "No module named 'jax_fem'",
          "traceback": [
            "\u001b[0;31m---------------------------------------------------------------------------\u001b[0m",
            "\u001b[0;31mModuleNotFoundError\u001b[0m                       Traceback (most recent call last)",
            "\u001b[0;32m<ipython-input-2-832838f62eba>\u001b[0m in \u001b[0;36m<cell line: 7>\u001b[0;34m()\u001b[0m\n\u001b[1;32m      5\u001b[0m \u001b[0;34m\u001b[0m\u001b[0m\n\u001b[1;32m      6\u001b[0m \u001b[0;31m# Import JAX-FEM specific modules.\u001b[0m\u001b[0;34m\u001b[0m\u001b[0;34m\u001b[0m\u001b[0m\n\u001b[0;32m----> 7\u001b[0;31m \u001b[0;32mfrom\u001b[0m \u001b[0mjax_fem\u001b[0m\u001b[0;34m.\u001b[0m\u001b[0mproblem\u001b[0m \u001b[0;32mimport\u001b[0m \u001b[0mProblem\u001b[0m\u001b[0;34m\u001b[0m\u001b[0;34m\u001b[0m\u001b[0m\n\u001b[0m\u001b[1;32m      8\u001b[0m \u001b[0;32mfrom\u001b[0m \u001b[0mjax_fem\u001b[0m\u001b[0;34m.\u001b[0m\u001b[0msolver\u001b[0m \u001b[0;32mimport\u001b[0m \u001b[0msolver\u001b[0m\u001b[0;34m\u001b[0m\u001b[0;34m\u001b[0m\u001b[0m\n\u001b[1;32m      9\u001b[0m \u001b[0;32mfrom\u001b[0m \u001b[0mjax_fem\u001b[0m\u001b[0;34m.\u001b[0m\u001b[0mutils\u001b[0m \u001b[0;32mimport\u001b[0m \u001b[0msave_sol\u001b[0m\u001b[0;34m\u001b[0m\u001b[0;34m\u001b[0m\u001b[0m\n",
            "\u001b[0;31mModuleNotFoundError\u001b[0m: No module named 'jax_fem'",
            "",
            "\u001b[0;31m---------------------------------------------------------------------------\u001b[0;32m\nNOTE: If your import is failing due to a missing package, you can\nmanually install dependencies using either !pip or !apt.\n\nTo view examples of installing some common dependencies, click the\n\"Open Examples\" button below.\n\u001b[0;31m---------------------------------------------------------------------------\u001b[0m\n"
          ],
          "errorDetails": {
            "actions": [
              {
                "action": "open_url",
                "actionText": "Open Examples",
                "url": "/notebooks/snippets/importing_libraries.ipynb"
              }
            ]
          }
        }
      ],
      "source": [
        "# Import some useful modules.\n",
        "import jax.numpy as np\n",
        "import os\n",
        "\n",
        "\n",
        "# Import JAX-FEM specific modules.\n",
        "from jax_fem.problem import Problem\n",
        "from jax_fem.solver import solver\n",
        "from jax_fem.utils import save_sol\n",
        "from jax_fem.generate_mesh import box_mesh_gmsh, get_meshio_cell_type, Mesh\n",
        "from jax_fem import logger\n",
        "\n",
        "import logging\n",
        "logger.setLevel(logging.DEBUG)\n",
        "\n",
        "\n",
        "# Material properties.\n",
        "E = 70e3\n",
        "nu = 0.3\n",
        "mu = E/(2.*(1.+nu))\n",
        "lmbda = E*nu/((1+nu)*(1-2*nu))\n",
        "\n",
        "\n",
        "# Weak forms.\n",
        "class LinearElasticity(Problem):\n",
        "    # The function 'get_tensor_map' overrides base class method. Generally, JAX-FEM\n",
        "    # solves -div(f(u_grad)) = b. Here, we have f(u_grad) = sigma.\n",
        "    def get_tensor_map(self):\n",
        "        def stress(u_grad):\n",
        "            epsilon = 0.5 * (u_grad + u_grad.T)\n",
        "            sigma = lmbda * np.trace(epsilon) * np.eye(self.dim) + 2*mu*epsilon\n",
        "            return sigma\n",
        "        return stress\n",
        "\n",
        "    def get_surface_maps(self):\n",
        "        def surface_map(u, x):\n",
        "            return np.array([0., 0., 100.])\n",
        "        return [surface_map]\n",
        "\n",
        "\n",
        "# Specify mesh-related information (second-order tetrahedron element).\n",
        "ele_type = 'TET10'\n",
        "cell_type = get_meshio_cell_type(ele_type)\n",
        "data_dir = os.path.join(os.path.dirname(__file__), 'data')\n",
        "Lx, Ly, Lz = 10., 2., 2.\n",
        "Nx, Ny, Nz = 25, 5, 5\n",
        "meshio_mesh = box_mesh_gmsh(Nx=Nx,\n",
        "                       Ny=Ny,\n",
        "                       Nz=Nz,\n",
        "                       Lx=Lx,\n",
        "                       Ly=Ly,\n",
        "                       Lz=Lz,\n",
        "                       data_dir=data_dir,\n",
        "                       ele_type=ele_type)\n",
        "mesh = Mesh(meshio_mesh.points, meshio_mesh.cells_dict[cell_type])\n",
        "\n",
        "\n",
        "# Define boundary locations.\n",
        "def left(point):\n",
        "    return np.isclose(point[0], 0., atol=1e-5)\n",
        "\n",
        "def right(point):\n",
        "    return np.isclose(point[0], Lx, atol=1e-5)\n",
        "\n",
        "\n",
        "# Define Dirichlet boundary values.\n",
        "# This means on the 'left' side, we apply the function 'zero_dirichlet_val'\n",
        "# to all components of the displacement variable u.\n",
        "def zero_dirichlet_val(point):\n",
        "    return 0.\n",
        "\n",
        "dirichlet_bc_info = [[left] * 3, [0, 1, 2], [zero_dirichlet_val] * 3]\n",
        "\n",
        "\n",
        "# Define Neumann boundary locations.\n",
        "# This means on the 'right' side, we will perform the surface integral to get\n",
        "# the tractions with the function 'get_surface_maps' defined in the class 'LinearElasticity'.\n",
        "location_fns = [right]\n",
        "\n",
        "\n",
        "# Create an instance of the problem.\n",
        "problem = LinearElasticity(mesh,\n",
        "                           vec=3,\n",
        "                           dim=3,\n",
        "                           ele_type=ele_type,\n",
        "                           dirichlet_bc_info=dirichlet_bc_info,\n",
        "                           location_fns=location_fns)\n",
        "# Solve the defined problem.\n",
        "sol_list = solver(problem, solver_options={'umfpack_solver': {}})\n",
        "\n",
        "# Postprocess for stress evaluations\n",
        "# (num_cells, num_quads, vec, dim)\n",
        "u_grad = problem.fes[0].sol_to_grad(sol_list[0])\n",
        "epsilon = 0.5 * (u_grad + u_grad.transpose(0,1,3,2))\n",
        "# (num_cells, bnum_quads, 1, 1) * (num_cells, num_quads, vec, dim)\n",
        "# -> (num_cells, num_quads, vec, dim)\n",
        "sigma = lmbda * np.trace(epsilon, axis1=2, axis2=3)[:,:,None,None] * np.eye(problem.dim) + 2*mu*epsilon\n",
        "# (num_cells, num_quads)\n",
        "cells_JxW = problem.JxW[:,0,:]\n",
        "# (num_cells, num_quads, vec, dim) * (num_cells, num_quads, 1, 1) ->\n",
        "# (num_cells, vec, dim) / (num_cells, 1, 1)\n",
        "#  --> (num_cells, vec, dim)\n",
        "sigma_average = np.sum(sigma * cells_JxW[:,:,None,None], axis=1) / np.sum(cells_JxW, axis=1)[:,None,None]\n",
        "\n",
        "# Von Mises stress\n",
        "# (num_cells, dim, dim)\n",
        "s_dev = (sigma_average - 1/problem.dim * np.trace(sigma_average, axis1=1, axis2=2)[:,None,None]\n",
        "                                       * np.eye(problem.dim)[None,:,:])\n",
        "# (num_cells,)\n",
        "vm_stress = np.sqrt(3./2.*np.sum(s_dev*s_dev, axis=(1,2)))\n",
        "\n",
        "# Store the solution to local file.\n",
        "vtk_path = os.path.join(data_dir, 'vtk/u.vtu')\n",
        "save_sol(problem.fes[0], sol_list[0], vtk_path, cell_infos=[('vm_stress', vm_stress)])"
      ]
    }
  ]
}